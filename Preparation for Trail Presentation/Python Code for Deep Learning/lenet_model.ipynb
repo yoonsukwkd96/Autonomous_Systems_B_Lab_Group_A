{
 "cells": [
  {
   "cell_type": "code",
   "execution_count": 1,
   "id": "adef07a6",
   "metadata": {},
   "outputs": [],
   "source": [
    "import numpy as np \n",
    "import pandas as pd\n",
    "import matplotlib.pyplot as plt \n",
    "from keras.preprocessing.image import ImageDataGenerator\n",
    "from keras.models import Sequential\n",
    "from keras.layers import Dense\n",
    "from keras.layers import Dropout\n",
    "from keras.layers import Flatten\n",
    "from keras.layers.convolutional import Conv2D\n",
    "from keras.layers.convolutional import MaxPooling2D"
   ]
  },
  {
   "cell_type": "code",
   "execution_count": 2,
   "id": "3777ce2f",
   "metadata": {},
   "outputs": [],
   "source": [
    "import splitfolders\n",
    "input_folder = r\"C:\\Users\\Omkar\\Desktop\\sem 7projects\\Sugar_beets\\Nonsegmented\"\n"
   ]
  },
  {
   "cell_type": "code",
   "execution_count": null,
   "id": "14257cd5",
   "metadata": {},
   "outputs": [
    {
     "name": "stderr",
     "output_type": "stream",
     "text": [
      "Copying files: 5149 files [01:27, 80.23 files/s]"
     ]
    }
   ],
   "source": [
    "splitfolders.ratio(input_folder, output=\"test_1\", \n",
    "                   seed=42, ratio=(.7, .2, .1), \n",
    "                   group_prefix=None)"
   ]
  },
  {
   "cell_type": "code",
   "execution_count": null,
   "id": "893c7fd1",
   "metadata": {},
   "outputs": [],
   "source": [
    "train_datagen = ImageDataGenerator(rescale = 1/255,\n",
    "                                  shear_range = 0.2,\n",
    "                                  zoom_range = 0.2,\n",
    "                                  horizontal_flip = True)\n",
    "\n",
    "test_datagen = ImageDataGenerator(rescale = 1/25 ,\n",
    "                                 shear_range = 0.2,\n",
    "                                  zoom_range = 0.2,\n",
    "                                  horizontal_flip = True)\n",
    "\n"
   ]
  },
  {
   "cell_type": "code",
   "execution_count": null,
   "id": "5fdff45d",
   "metadata": {},
   "outputs": [],
   "source": [
    "training_set = train_datagen.flow_from_directory(r\"C:\\Users\\Omkar\\Desktop\\sem 7projects\\Sugar_beets\\test_1\\train\" ,\n",
    "                                                target_size = (64,64) ,\n",
    "                                                batch_size = 32 ,\n",
    "                                                class_mode = 'categorical')\n"
   ]
  },
  {
   "cell_type": "code",
   "execution_count": null,
   "id": "04ea89a2",
   "metadata": {},
   "outputs": [],
   "source": [
    "test_set = test_datagen.flow_from_directory(r\"C:\\Users\\Omkar\\Desktop\\sem 7projects\\Sugar_beets\\test_1\\val\" ,\n",
    "                                                target_size = (64,64) ,\n",
    "                                                batch_size = 32,\n",
    "                                                class_mode = 'categorical')"
   ]
  },
  {
   "cell_type": "code",
   "execution_count": null,
   "id": "8cd90742",
   "metadata": {},
   "outputs": [],
   "source": [
    "#import os\n",
    "\n",
    "\n",
    "# Function to rename multiple files\n",
    "#def main():\n",
    "   \n",
    "#    folder = r\"C:\\Users\\Omkar\\Desktop\\sem 7projects\\Sugar_beets\\test\"\n",
    "#    for count, filename in enumerate(os.listdir(folder)):\n",
    "#        dst = f\" {str(count)}.jpg\"\n",
    "#        src =f\"{folder}/{filename}\"  # foldername/filename, if .py file is outside folder\n",
    "#        dst =f\"{folder}/{dst}\"\n",
    "         \n",
    "        # rename() function will\n",
    "        # rename all the files\n",
    "#        os.rename(src, dst)\n",
    " \n",
    "# Driver Code\n",
    "#if __name__ == '__main__':\n",
    "     \n",
    "     #Calling main() function\n",
    "#     main()"
   ]
  },
  {
   "cell_type": "code",
   "execution_count": null,
   "id": "392b4884",
   "metadata": {
    "scrolled": false
   },
   "outputs": [],
   "source": [
    "model = Sequential()\n",
    "#layer1\n",
    "#conv layer 1\n",
    "model.add(Conv2D(filters = 6, kernel_size = 5, strides = 1, activation = 'relu', input_shape = (64,64,3)))\n",
    "#pooling layer 1\n",
    "model.add(MaxPooling2D(pool_size = 2, strides = 2))\n",
    "\n",
    "#layer 2\n",
    "#conv layer 2\n",
    "model.add(Conv2D(filters = 16, kernel_size = 5, strides = 1, activation = 'relu' , input_shape = (14,14,6)))\n",
    "#pooling layer 2\n",
    "model.add(MaxPooling2D(pool_size = 2, strides = 2))\n",
    "#flatten\n",
    "model.add(Flatten())\n",
    "\n",
    "#layer 3\n",
    "#fully connected layer 1\n",
    "model.add(Dense(units = 120, activation = 'relu'))\n",
    "\n",
    "#layer 4\n",
    "#fully connected layer 2\n",
    "model.add(Dense(units = 84, activation = 'relu'))\n",
    "\n",
    "#layer 5\n",
    "#output layer\n",
    "model.add(Dense(units = 12, activation = 'softmax'))\n",
    "model.compile(optimizer = 'adam' , loss = 'categorical_crossentropy', metrics = ['accuracy'])\n",
    "model.fit(training_set, steps_per_epoch = 100, epochs = 60,validation_data = test_set,validation_steps = 30)\n"
   ]
  },
  {
   "cell_type": "code",
   "execution_count": null,
   "id": "e71acfcd",
   "metadata": {
    "scrolled": true
   },
   "outputs": [],
   "source": [
    "model.summary()"
   ]
  },
  {
   "cell_type": "code",
   "execution_count": null,
   "id": "7ad42362",
   "metadata": {},
   "outputs": [],
   "source": [
    "from numpy import loadtxt\n",
    "from keras.models import load_model\n",
    "from keras.preprocessing import image\n",
    "import tensorflow as tf"
   ]
  },
  {
   "cell_type": "code",
   "execution_count": null,
   "id": "bafd72c5",
   "metadata": {},
   "outputs": [],
   "source": [
    "classifier = load_model(r\"C:\\Users\\Omkar\\Desktop\\sem 7projects\\Sugar_beets\\lenet\\model.h5\")"
   ]
  },
  {
   "cell_type": "code",
   "execution_count": null,
   "id": "0996058a",
   "metadata": {},
   "outputs": [],
   "source": [
    "ids = []\n",
    "preds = []\n",
    "from glob import glob\n",
    "path = r'C:\\Users\\Omkar\\Desktop\\sem 7projects\\Sugar_beets\\test_1\\test\\*.png'\n",
    "files = glob(path)\n",
    "for i in files:\n",
    "    id = i.split('\\\\')[-1]\n",
    "    ids.append(id)\n",
    "    test_image = tf.keras.utils.load_img(i, target_size = (64,64))\n",
    "    test_image = tf.keras.utils.img_to_array(test_image)\n",
    "    test_image = np.expand_dims(test_image, axis = 0)\n",
    "    result = classifier.predict(test_image)\n",
    "    training_set.class_indices\n",
    "    print(id)\n",
    "    if result[0][0]==1.0:\n",
    "        prediction = 'Black-grass'\n",
    "        print(prediction)\n",
    "    elif result[0][1]==1.0:\n",
    "        prediction = 'Charlock'\n",
    "        print(prediction)\n",
    "    elif result[0][2]==1.0:\n",
    "        prediction = 'Cleavers'\n",
    "        print(prediction)\n",
    "    elif result[0][3]==1.0:\n",
    "        prediction = 'Common Chickweed'\n",
    "        print(prediction)\n",
    "    elif result[0][4]==1.0:\n",
    "        prediction = 'Common wheat'\n",
    "        print(prediction)\n",
    "    elif result[0][5]==1.0:\n",
    "        prediction = 'Fat Hen'\n",
    "        print(prediction)\n",
    "    elif result[0][6]==1.0:\n",
    "        prediction = 'Loose Silky-bent'\n",
    "        print(prediction)\n",
    "    elif result[0][7]==1.0:\n",
    "        prediction = 'Maize'\n",
    "        print(prediction)\n",
    "    elif result[0][8]==1.0:\n",
    "        prediction = 'Scentless Mayweed'\n",
    "        print(prediction)\n",
    "    elif result[0][9]==1.0:\n",
    "        prediction = 'Shepherds Purse'\n",
    "        print(prediction)\n",
    "    elif result[0][10]==1.0:\n",
    "        prediction = 'Small-flowered Cranesbill'\n",
    "        print(prediction)\n",
    "    else:\n",
    "        prediction = 'Sugar beet'\n",
    "        print(prediction)\n",
    "    preds.append(prediction)"
   ]
  },
  {
   "cell_type": "code",
   "execution_count": null,
   "id": "1e25d6c9",
   "metadata": {},
   "outputs": [],
   "source": [
    "len(ids)\n",
    "len(preds)\n"
   ]
  },
  {
   "cell_type": "code",
   "execution_count": null,
   "id": "41c1cc16",
   "metadata": {},
   "outputs": [],
   "source": [
    "PS = {'file' : ids, 'species' : preds}\n",
    "PS = pd.DataFrame(PS)\n",
    "PS.to_csv('predictions.csv')"
   ]
  },
  {
   "cell_type": "code",
   "execution_count": null,
   "id": "7d3dced2",
   "metadata": {},
   "outputs": [],
   "source": []
  },
  {
   "cell_type": "code",
   "execution_count": null,
   "id": "8e60fdff",
   "metadata": {},
   "outputs": [],
   "source": []
  }
 ],
 "metadata": {
  "kernelspec": {
   "display_name": "Python 3 (ipykernel)",
   "language": "python",
   "name": "python3"
  },
  "language_info": {
   "codemirror_mode": {
    "name": "ipython",
    "version": 3
   },
   "file_extension": ".py",
   "mimetype": "text/x-python",
   "name": "python",
   "nbconvert_exporter": "python",
   "pygments_lexer": "ipython3",
   "version": "3.10.0"
  }
 },
 "nbformat": 4,
 "nbformat_minor": 5
}
