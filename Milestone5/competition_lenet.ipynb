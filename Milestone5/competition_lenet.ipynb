{
 "cells": [
  {
   "cell_type": "code",
   "execution_count": 1,
   "id": "adef07a6",
   "metadata": {},
   "outputs": [],
   "source": [
    "import numpy as np \n",
    "import pandas as pd\n",
    "import matplotlib.pyplot as plt \n",
    "from keras.preprocessing.image import ImageDataGenerator\n",
    "from keras.models import Sequential\n",
    "from keras.layers import Dense\n",
    "from keras.layers import Dropout\n",
    "from keras.layers import Flatten\n",
    "from keras.layers.convolutional import Conv2D\n",
    "from keras.layers.convolutional import MaxPooling2D"
   ]
  },
  {
   "cell_type": "code",
   "execution_count": 2,
   "id": "3777ce2f",
   "metadata": {},
   "outputs": [],
   "source": [
    "import splitfolders\n",
    "input_folder = r\"C:\\Users\\Omkar\\Desktop\\sem 7projects\\Sugar_beets\\Nonsegmented\"\n"
   ]
  },
  {
   "cell_type": "code",
   "execution_count": 3,
   "id": "14257cd5",
   "metadata": {},
   "outputs": [
    {
     "name": "stderr",
     "output_type": "stream",
     "text": [
      "Copying files: 5544 files [00:27, 199.75 files/s]\n"
     ]
    }
   ],
   "source": [
    "splitfolders.ratio(input_folder, output=\"test_1\", \n",
    "                   seed=42, ratio=(.7, .2, .1), \n",
    "                   group_prefix=None)"
   ]
  },
  {
   "cell_type": "code",
   "execution_count": 4,
   "id": "893c7fd1",
   "metadata": {},
   "outputs": [],
   "source": [
    "train_datagen = ImageDataGenerator(rescale = 1/255,\n",
    "                                  shear_range = 0.2,\n",
    "                                  zoom_range = 0.2,\n",
    "                                  horizontal_flip = True)\n",
    "\n",
    "test_datagen = ImageDataGenerator(rescale = 1/25 ,\n",
    "                                 shear_range = 0.2,\n",
    "                                  zoom_range = 0.2,\n",
    "                                  horizontal_flip = True)\n",
    "\n"
   ]
  },
  {
   "cell_type": "code",
   "execution_count": 5,
   "id": "5fdff45d",
   "metadata": {},
   "outputs": [
    {
     "name": "stdout",
     "output_type": "stream",
     "text": [
      "Found 4430 images belonging to 12 classes.\n"
     ]
    }
   ],
   "source": [
    "training_set = train_datagen.flow_from_directory(r\"C:\\Users\\Omkar\\Desktop\\sem 7projects\\Sugar_beets\\test_1\\train\" ,\n",
    "                                                target_size = (64,64) ,\n",
    "                                                batch_size = 32 ,\n",
    "                                                class_mode = 'categorical')\n"
   ]
  },
  {
   "cell_type": "code",
   "execution_count": 6,
   "id": "04ea89a2",
   "metadata": {},
   "outputs": [
    {
     "name": "stdout",
     "output_type": "stream",
     "text": [
      "Found 1668 images belonging to 12 classes.\n"
     ]
    }
   ],
   "source": [
    "test_set = test_datagen.flow_from_directory(r\"C:\\Users\\Omkar\\Desktop\\sem 7projects\\Sugar_beets\\test_1\\val\" ,\n",
    "                                                target_size = (64,64) ,\n",
    "                                                batch_size = 32,\n",
    "                                                class_mode = 'categorical')"
   ]
  },
  {
   "cell_type": "code",
   "execution_count": 11,
   "id": "8cd90742",
   "metadata": {},
   "outputs": [
    {
     "ename": "FileExistsError",
     "evalue": "[WinError 183] Cannot create a file when that file already exists: 'C:\\\\Users\\\\Omkar\\\\Desktop\\\\sem 7projects\\\\Sugar_beets\\\\test_1\\\\test/ 101.jpg' -> 'C:\\\\Users\\\\Omkar\\\\Desktop\\\\sem 7projects\\\\Sugar_beets\\\\test_1\\\\test/ 2.jpg'",
     "output_type": "error",
     "traceback": [
      "\u001b[1;31m---------------------------------------------------------------------------\u001b[0m",
      "\u001b[1;31mFileExistsError\u001b[0m                           Traceback (most recent call last)",
      "Input \u001b[1;32mIn [11]\u001b[0m, in \u001b[0;36m<cell line: 17>\u001b[1;34m()\u001b[0m\n\u001b[0;32m     16\u001b[0m \u001b[38;5;66;03m# Driver Code\u001b[39;00m\n\u001b[0;32m     17\u001b[0m \u001b[38;5;28;01mif\u001b[39;00m \u001b[38;5;18m__name__\u001b[39m \u001b[38;5;241m==\u001b[39m \u001b[38;5;124m'\u001b[39m\u001b[38;5;124m__main__\u001b[39m\u001b[38;5;124m'\u001b[39m:\n\u001b[0;32m     18\u001b[0m      \n\u001b[0;32m     19\u001b[0m     \u001b[38;5;66;03m# Calling main() function\u001b[39;00m\n\u001b[1;32m---> 20\u001b[0m     \u001b[43mmain\u001b[49m\u001b[43m(\u001b[49m\u001b[43m)\u001b[49m\n",
      "Input \u001b[1;32mIn [11]\u001b[0m, in \u001b[0;36mmain\u001b[1;34m()\u001b[0m\n\u001b[0;32m     10\u001b[0m dst \u001b[38;5;241m=\u001b[39m\u001b[38;5;124mf\u001b[39m\u001b[38;5;124m\"\u001b[39m\u001b[38;5;132;01m{\u001b[39;00mfolder\u001b[38;5;132;01m}\u001b[39;00m\u001b[38;5;124m/\u001b[39m\u001b[38;5;132;01m{\u001b[39;00mdst\u001b[38;5;132;01m}\u001b[39;00m\u001b[38;5;124m\"\u001b[39m\n\u001b[0;32m     12\u001b[0m \u001b[38;5;66;03m# rename() function will\u001b[39;00m\n\u001b[0;32m     13\u001b[0m \u001b[38;5;66;03m# rename all the files\u001b[39;00m\n\u001b[1;32m---> 14\u001b[0m \u001b[43mos\u001b[49m\u001b[38;5;241;43m.\u001b[39;49m\u001b[43mrename\u001b[49m\u001b[43m(\u001b[49m\u001b[43msrc\u001b[49m\u001b[43m,\u001b[49m\u001b[43m \u001b[49m\u001b[43mdst\u001b[49m\u001b[43m)\u001b[49m\n",
      "\u001b[1;31mFileExistsError\u001b[0m: [WinError 183] Cannot create a file when that file already exists: 'C:\\\\Users\\\\Omkar\\\\Desktop\\\\sem 7projects\\\\Sugar_beets\\\\test_1\\\\test/ 101.jpg' -> 'C:\\\\Users\\\\Omkar\\\\Desktop\\\\sem 7projects\\\\Sugar_beets\\\\test_1\\\\test/ 2.jpg'"
     ]
    }
   ],
   "source": [
    "import os\n",
    " \n",
    "# Function to rename multiple files\n",
    "def main():\n",
    "   \n",
    "    folder = r\"C:\\Users\\Omkar\\Desktop\\sem 7projects\\Sugar_beets\\test_1\\test\"\n",
    "    for count, filename in enumerate(os.listdir(folder)):\n",
    "        dst = f\" {str(count)}.jpg\"\n",
    "        src =f\"{folder}/{filename}\"  # foldername/filename, if .py file is outside folder\n",
    "        dst =f\"{folder}/{dst}\"\n",
    "         \n",
    "        # rename() function will\n",
    "        # rename all the files\n",
    "        os.rename(src, dst)\n",
    " \n",
    "# Driver Code\n",
    "if __name__ == '__main__':\n",
    "     \n",
    "    # Calling main() function\n",
    "    main()"
   ]
  },
  {
   "cell_type": "code",
   "execution_count": null,
   "id": "392b4884",
   "metadata": {
    "scrolled": true
   },
   "outputs": [],
   "source": [
    "model = Sequential()\n",
    "#layer1\n",
    "#conv layer 1\n",
    "model.add(Conv2D(filters = 6, kernel_size = 5, strides = 1, activation = 'relu', input_shape = (64,64,3)))\n",
    "#pooling layer 1\n",
    "model.add(MaxPooling2D(pool_size = 2, strides = 2))\n",
    "\n",
    "#layer 2\n",
    "#conv layer 2\n",
    "model.add(Conv2D(filters = 16, kernel_size = 5, strides = 1, activation = 'relu' , input_shape = (14,14,6)))\n",
    "#pooling layer 2\n",
    "model.add(MaxPooling2D(pool_size = 2, strides = 2))\n",
    "#flatten\n",
    "model.add(Flatten())\n",
    "\n",
    "#layer 3\n",
    "#fully connected layer 1\n",
    "model.add(Dense(units = 120, activation = 'relu'))\n",
    "\n",
    "#layer 4\n",
    "#fully connected layer 2\n",
    "model.add(Dense(units = 84, activation = 'relu'))\n",
    "\n",
    "#layer 5\n",
    "#output layer\n",
    "model.add(Dense(units = 12, activation = 'softmax'))\n",
    "model.compile(optimizer = 'adam' , loss = 'categorical_crossentropy', metrics = ['accuracy'])\n",
    "model.fit(training_set, steps_per_epoch = 130, epochs = 1,validation_data = test_set,validation_steps = 30)\n"
   ]
  },
  {
   "cell_type": "code",
   "execution_count": null,
   "id": "e71acfcd",
   "metadata": {
    "scrolled": true
   },
   "outputs": [],
   "source": [
    "model.summary()"
   ]
  },
  {
   "cell_type": "code",
   "execution_count": null,
   "id": "8b586ea2",
   "metadata": {},
   "outputs": [],
   "source": [
    "import pickle\n",
    "pickle.dump(model, open('model.pkl','wb'))\n",
    "learn.export('model.pkl')"
   ]
  },
  {
   "cell_type": "code",
   "execution_count": null,
   "id": "07d4301a",
   "metadata": {},
   "outputs": [],
   "source": [
    "#model.save(r\"C:\\Users\\Omkar\\Desktop\\Sugar_beets\\lenet\\model.\")\n",
    "#print(\"Saved\")\n"
   ]
  },
  {
   "cell_type": "code",
   "execution_count": null,
   "id": "7ad42362",
   "metadata": {},
   "outputs": [],
   "source": [
    "from numpy import loadtxt\n",
    "from keras.models import load_model\n",
    "from keras.preprocessing import image\n",
    "import tensorflow as tf"
   ]
  },
  {
   "cell_type": "code",
   "execution_count": null,
   "id": "1d9c957c",
   "metadata": {},
   "outputs": [],
   "source": [
    "classifier = load('model.pkl')"
   ]
  },
  {
   "cell_type": "code",
   "execution_count": null,
   "id": "0996058a",
   "metadata": {},
   "outputs": [],
   "source": [
    "ids = []\n",
    "preds = []\n",
    "from glob import glob\n",
    "path = r'C:\\Users\\Omkar\\Desktop\\sem 7projects\\Sugar_beets\\test_1\\test\\*.png'\n",
    "files = glob(path)\n",
    "for i in files:\n",
    "    id = i.split('\\\\')[-1]\n",
    "    ids.append(id)\n",
    "    test_image = tf.keras.utils.load_img(i, target_size = (64,64))\n",
    "    test_image = tf.keras.utils.img_to_array(test_image)\n",
    "    test_image = np.expand_dims(test_image, axis = 0)\n",
    "    result = classifier.predict(test_image)\n",
    "    training_set.class_indices\n",
    "    print(id)\n",
    "    if result[0][0]==1.0:\n",
    "        prediction = 'Black-grass'\n",
    "        print(prediction)\n",
    "    elif result[0][1]==1.0:\n",
    "        prediction = 'Charlock'\n",
    "        print(prediction)\n",
    "    elif result[0][2]==1.0:\n",
    "        prediction = 'Cleavers'\n",
    "        print(prediction)\n",
    "    elif result[0][3]==1.0:\n",
    "        prediction = 'Common Chickweed'\n",
    "        print(prediction)\n",
    "    elif result[0][4]==1.0:\n",
    "        prediction = 'Common wheat'\n",
    "        print(prediction)\n",
    "    elif result[0][5]==1.0:\n",
    "        prediction = 'Fat Hen'\n",
    "        print(prediction)\n",
    "    elif result[0][6]==1.0:\n",
    "        prediction = 'Loose Silky-bent'\n",
    "        print(prediction)\n",
    "    elif result[0][7]==1.0:\n",
    "        prediction = 'Maize'\n",
    "        print(prediction)\n",
    "    elif result[0][8]==1.0:\n",
    "        prediction = 'Scentless Mayweed'\n",
    "        print(prediction)\n",
    "    elif result[0][9]==1.0:\n",
    "        prediction = 'Shepherds Purse'\n",
    "        print(prediction)\n",
    "    elif result[0][10]==1.0:\n",
    "        prediction = 'Small-flowered Cranesbill'\n",
    "        print(prediction)\n",
    "    else:\n",
    "        prediction = 'Sugar beet'\n",
    "        print(prediction)\n",
    "    preds.append(prediction)\n",
    "        \n",
    "    \n",
    "            \n",
    "    "
   ]
  },
  {
   "cell_type": "code",
   "execution_count": null,
   "id": "1e25d6c9",
   "metadata": {},
   "outputs": [],
   "source": [
    "len(ids)\n",
    "len(preds)\n"
   ]
  },
  {
   "cell_type": "code",
   "execution_count": null,
   "id": "41c1cc16",
   "metadata": {},
   "outputs": [],
   "source": [
    "PS = {'file' : ids, 'species' : preds}\n",
    "PS = pd.DataFrame(PS)\n",
    "PS.to_csv('predictions.csv')"
   ]
  },
  {
   "cell_type": "code",
   "execution_count": null,
   "id": "7d3dced2",
   "metadata": {},
   "outputs": [],
   "source": []
  },
  {
   "cell_type": "code",
   "execution_count": null,
   "id": "8e60fdff",
   "metadata": {},
   "outputs": [],
   "source": []
  }
 ],
 "metadata": {
  "kernelspec": {
   "display_name": "Python 3 (ipykernel)",
   "language": "python",
   "name": "python3"
  },
  "language_info": {
   "codemirror_mode": {
    "name": "ipython",
    "version": 3
   },
   "file_extension": ".py",
   "mimetype": "text/x-python",
   "name": "python",
   "nbconvert_exporter": "python",
   "pygments_lexer": "ipython3",
   "version": "3.10.0"
  }
 },
 "nbformat": 4,
 "nbformat_minor": 5
}
